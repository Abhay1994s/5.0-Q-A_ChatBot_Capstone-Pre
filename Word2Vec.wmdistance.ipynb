{
 "cells": [
  {
   "cell_type": "markdown",
   "metadata": {},
   "source": [
    "# Word Mover’s Distance\n",
    "https://tedboy.github.io/nlps/generated/generated/gensim.models.Word2Vec.wmdistance.html\n",
    "\n",
    "https://www.yelp.com/dataset_challenge/dataset`\n",
    "\n",
    "\n",
    "WMD: gensim.models.Word2Vec.wmdistance\n",
    "\n",
    "1. Download the data from https://www.yelp.com/dataset_challenge/dataset\n",
    "2. Preprocess the data, removing stopwords, etc\n",
    "3. Filters the 'reviews' of 6 restaurants( Earl of Sandwich, Wicked Spoon, Serendipity 3, Bacchanal Buffet,\n",
    "   The Buffet, Mon Ami Gabi) from the downloaded database.\n",
    "4. Load the pretrained Google model of vectors into word2vec\n",
    "5. Convert text into word2vec.\n",
    "6. Compute the distance between the reviews and query input using word mover's distance(Word2Vec.wmdistance)\n",
    "7. Retrieve top 10 similar reviews."
   ]
  },
  {
   "cell_type": "markdown",
   "metadata": {},
   "source": [
    "## Importing Packages"
   ]
  },
  {
   "cell_type": "code",
   "execution_count": 9,
   "metadata": {},
   "outputs": [],
   "source": [
    "from nltk.corpus import stopwords\n",
    "from nltk.tokenize import word_tokenize, sent_tokenize\n",
    "from gensim.models import KeyedVectors\n",
    "import pandas as pd"
   ]
  },
  {
   "cell_type": "markdown",
   "metadata": {},
   "source": [
    "## Loading WMD Google Pre-trained Model"
   ]
  },
  {
   "cell_type": "code",
   "execution_count": 2,
   "metadata": {
    "collapsed": true
   },
   "outputs": [],
   "source": [
    "wmd_model = KeyedVectors.load_word2vec_format('./Downloads/GoogleNews-vectors-negative300.bin.gz', binary=True)"
   ]
  },
  {
   "cell_type": "code",
   "execution_count": 3,
   "metadata": {
    "collapsed": true
   },
   "outputs": [],
   "source": [
    "query =\"Who is Abhay?\""
   ]
  },
  {
   "cell_type": "code",
   "execution_count": 4,
   "metadata": {
    "collapsed": true
   },
   "outputs": [],
   "source": [
    "data = '''My name is Abhay Sharma. \n",
    "          My gender is Male. I am 23 years old. \n",
    "          I live in Bangalore. I like driving. \n",
    "          I have lived in Delhi before but I like Bangalore more. \n",
    "          XYZ is a nice girl. Her gender is Female.'''"
   ]
  },
  {
   "cell_type": "code",
   "execution_count": 7,
   "metadata": {
    "collapsed": true
   },
   "outputs": [],
   "source": [
    "def WMD_Similarity(query, data):\n",
    "    list_distances = []\n",
    "    stop_words = set(stopwords.words('english'))\n",
    "    sentence1 = [word for word in word_tokenize(query) if word not in stop_words]\n",
    "    sents = sent_tokenize(data)\n",
    "    for sent in sents:\n",
    "        sentence2 = [word for word in word_tokenize(sent) if word not in stop_words]\n",
    "        similarity_distance = wmd_model.wmdistance(sentence1, sentence2)\n",
    "        list_distances.append(similarity_distance)\n",
    "    WMD_Dataframe = pd.DataFrame({'Sentence': sents, 'WMD_Score': list_distances}).sort_values(by=['WMD_Score'],ascending=True) \n",
    "    return WMD_Dataframe"
   ]
  },
  {
   "cell_type": "code",
   "execution_count": 10,
   "metadata": {},
   "outputs": [
    {
     "data": {
      "text/html": [
       "<div>\n",
       "<style>\n",
       "    .dataframe thead tr:only-child th {\n",
       "        text-align: right;\n",
       "    }\n",
       "\n",
       "    .dataframe thead th {\n",
       "        text-align: left;\n",
       "    }\n",
       "\n",
       "    .dataframe tbody tr th {\n",
       "        vertical-align: top;\n",
       "    }\n",
       "</style>\n",
       "<table border=\"1\" class=\"dataframe\">\n",
       "  <thead>\n",
       "    <tr style=\"text-align: right;\">\n",
       "      <th></th>\n",
       "      <th>Sentence</th>\n",
       "      <th>WMD_Score</th>\n",
       "    </tr>\n",
       "  </thead>\n",
       "  <tbody>\n",
       "    <tr>\n",
       "      <th>0</th>\n",
       "      <td>My name is Abhay Sharma.</td>\n",
       "      <td>2.542431</td>\n",
       "    </tr>\n",
       "    <tr>\n",
       "      <th>5</th>\n",
       "      <td>I have lived in Delhi before but I like Bangal...</td>\n",
       "      <td>3.553620</td>\n",
       "    </tr>\n",
       "    <tr>\n",
       "      <th>3</th>\n",
       "      <td>I live in Bangalore.</td>\n",
       "      <td>3.558836</td>\n",
       "    </tr>\n",
       "    <tr>\n",
       "      <th>4</th>\n",
       "      <td>I like driving.</td>\n",
       "      <td>3.671762</td>\n",
       "    </tr>\n",
       "    <tr>\n",
       "      <th>2</th>\n",
       "      <td>I am 23 years old.</td>\n",
       "      <td>3.777054</td>\n",
       "    </tr>\n",
       "    <tr>\n",
       "      <th>6</th>\n",
       "      <td>XYZ is a nice girl.</td>\n",
       "      <td>3.976623</td>\n",
       "    </tr>\n",
       "    <tr>\n",
       "      <th>1</th>\n",
       "      <td>My gender is Male.</td>\n",
       "      <td>4.085033</td>\n",
       "    </tr>\n",
       "    <tr>\n",
       "      <th>7</th>\n",
       "      <td>Her gender is Female.</td>\n",
       "      <td>4.156377</td>\n",
       "    </tr>\n",
       "  </tbody>\n",
       "</table>\n",
       "</div>"
      ],
      "text/plain": [
       "                                            Sentence  WMD_Score\n",
       "0                           My name is Abhay Sharma.   2.542431\n",
       "5  I have lived in Delhi before but I like Bangal...   3.553620\n",
       "3                               I live in Bangalore.   3.558836\n",
       "4                                    I like driving.   3.671762\n",
       "2                                 I am 23 years old.   3.777054\n",
       "6                                XYZ is a nice girl.   3.976623\n",
       "1                                 My gender is Male.   4.085033\n",
       "7                              Her gender is Female.   4.156377"
      ]
     },
     "execution_count": 10,
     "metadata": {},
     "output_type": "execute_result"
    }
   ],
   "source": [
    "WMD_Similarity(query, data)"
   ]
  },
  {
   "cell_type": "code",
   "execution_count": null,
   "metadata": {
    "collapsed": true
   },
   "outputs": [],
   "source": []
  }
 ],
 "metadata": {
  "kernelspec": {
   "display_name": "Python 3",
   "language": "python",
   "name": "python3"
  },
  "language_info": {
   "codemirror_mode": {
    "name": "ipython",
    "version": 3
   },
   "file_extension": ".py",
   "mimetype": "text/x-python",
   "name": "python",
   "nbconvert_exporter": "python",
   "pygments_lexer": "ipython3",
   "version": "3.6.1"
  }
 },
 "nbformat": 4,
 "nbformat_minor": 2
}
